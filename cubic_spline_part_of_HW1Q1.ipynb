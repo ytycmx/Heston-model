{
  "nbformat": 4,
  "nbformat_minor": 0,
  "metadata": {
    "colab": {
      "name": "cubic spline part of HW1Q1.ipynb",
      "provenance": [],
      "collapsed_sections": [],
      "include_colab_link": true
    },
    "kernelspec": {
      "name": "python3",
      "display_name": "Python 3"
    },
    "language_info": {
      "name": "python"
    }
  },
  "cells": [
    {
      "cell_type": "markdown",
      "metadata": {
        "id": "view-in-github",
        "colab_type": "text"
      },
      "source": [
        "<a href=\"https://colab.research.google.com/github/ytycmx/Heston-model/blob/master/cubic_spline_part_of_HW1Q1.ipynb\" target=\"_parent\"><img src=\"https://colab.research.google.com/assets/colab-badge.svg\" alt=\"Open In Colab\"/></a>"
      ]
    },
    {
      "cell_type": "code",
      "execution_count": null,
      "metadata": {
        "id": "6mK6xGjfHJEG"
      },
      "outputs": [],
      "source": [
        "import pandas as pd\n",
        "import numpy as np\n",
        "import sympy as sym\n",
        "from sympy import*\n",
        "\n",
        "# Define the symbols and functions we need\n",
        "x = symbols('x');\n",
        "y = symbols('y');\n",
        "a1,b1,c1,d1 = symbols('a1,b1,c1,d1');\n",
        "a2,b2,c2,d2 = symbols('a2,b2,c2,d2');\n",
        "a3,b3,c3,d3 = symbols('a3,b3,c3,d3');\n",
        "a4,b4,c4,d4 = symbols('a4,b4,c4,d4');\n",
        "a5,b5,c5,d5 = symbols('a5,b5,c5,d5');\n",
        "a6,b6,c6,d6 = symbols('a6,b6,c6,d6');\n",
        "a7,b7,c7,d7 = symbols('a7,b7,c7,d7');\n",
        "def fun1(x):\n",
        "  return a1*x**3+b1*x**2+c1*x+d1\n",
        "def fun2(x):\n",
        "  return a2*x**3+b2*x**2+c2*x+d2\n",
        "def fun3(x):\n",
        "  return a3*x**3+b3*x**2+c3*x+d3\n",
        "def fun4(x):\n",
        "  return a4*x**3+b4*x**2+c4*x+d4\n",
        "def fun5(x):\n",
        "  return a5*x**3+b5*x**2+c5*x+d5\n",
        "def fun6(x):\n",
        "  return a6*x**3+b6*x**2+c6*x+d6\n",
        "def fun7(x):\n",
        "  return a7*x**3+b7*x**2+c7*x+d7\n",
        "def fun1p(x):\n",
        "  return 3*a1*x**2+2*b1*x+c1\n",
        "def fun2p(x):\n",
        "  return 3*a2*x**2+2*b2*x+c2\n",
        "def fun3p(x):\n",
        "  return 3*a3*x**2+2*b3*x+c3\n",
        "def fun4p(x):\n",
        "  return 3*a4*x**2+2*b4*x+c4\n",
        "def fun5p(x):\n",
        "  return 3*a5*x**2+2*b5*x+c5\n",
        "def fun6p(x):\n",
        "  return 3*a6*x**2+2*b6*x+c6\n",
        "def fun7p(x):\n",
        "  return 3*a7*x**2+2*b7*x+c7\n",
        "def fun1pp(x):\n",
        "  return 6*a1*x+2*b1\n",
        "def fun2pp(x):\n",
        "  return 6*a2*x+2*b2\n",
        "def fun3pp(x):\n",
        "  return 6*a3*x+2*b3\n",
        "def fun4pp(x):\n",
        "  return 6*a4*x+2*b4\n",
        "def fun5pp(x):\n",
        "  return 6*a5*x+2*b5\n",
        "def fun6pp(x):\n",
        "  return 6*a6*x+2*b6\n",
        "def fun7pp(x):\n",
        "  return 6*a7*x+2*b7\n",
        "f = [];\n",
        "f = [fun1(x),fun2(x),fun3(x),fun4(x),fun5(x),fun6(x),fun7(x)];\n",
        "def zerolistmaker(n):\n",
        "    listofzeros = [0] * n\n",
        "    return listofzeros\n",
        "ffin = zerolistmaker(7);\n",
        "#print(ffin);\n",
        "#print(f);\n",
        "f1 = symbols('f1');\n",
        "f2 = symbols('f2');\n",
        "\n",
        "# Now we import the 28 equations (actually we only need the \"for\" iteration to get the last 7 equations) and solve the 28 unknown variables\n",
        "R = [0.02832*0.5,0.02738*0.5,0.02689*0.5,0.02665*0.5,0.02668*0.5,0.02702*0.5,0.02777*0.5,0.02882*0.5];\n",
        "r = [i*2 for i in R];\n",
        "yr = [0.5,2,3,4,5,7,10,30];\n",
        "oldnum = [j*2 for j in yr];\n",
        "dyr = [3,2,2,2,4,6,40];\n",
        "adddyr = [3,5,7,9,13,19,59];\n",
        "num = [4,6,8,10,14,20,60];\n",
        "dnum = [2,2,2,4,6,40];\n",
        "yrd = [0.5,1,1.5,2,2.5,3,3.5,4,4.5,5,5.5,6,6.5,7,7.5,8,8.5,9,9.5,10,10.5,11,11.5,12,12.5,13,13.5,14,14.5,15,15.5,16,16.5,17,17.5,18,18.5,19,19.5,20,20.5,21,21.5,22,22.5,23,23.5,24,24.5,25,25.5,26,26.5,27,27.5,28,28.5,29,29.5,30];\n",
        "\n",
        "f1 = 1/(1+R[0])+1/(1+0.5*fun1(yrd[1]))**2+1/(1+0.5*fun1(yrd[2]))**3+1/(1+0.5*fun1(yrd[3]))**4;\n",
        "f2 = 1/(1+0.5*fun1(yrd[3]))**4;\n",
        "ffin[0] = R[1]*f1 + f2;\n",
        "#print(ffin[0]);\n",
        "\n",
        "for q in range(2,8,1):\n",
        "  for z in range(1,dnum[q-2]+1,1):\n",
        "    f1 = f1 + 1/(0.5*f[q-1].subs(x,yrd[adddyr[q-2]+z]))**(num[q-2]+z);\n",
        "  f2 = 1/(1+0.5*f[q-1].subs(x,yrd[adddyr[q-1]]))**num[q-1];\n",
        "  ffin[q-1] = R[q]*f1 + f2;\n",
        "#print(ffin);\n",
        "\n",
        "solved_value = solve([fun1(0.5)-0.02832,fun1(2)-fun2(2),fun2(3)-fun3(3),fun3(4)-fun4(4),fun4(5)-fun5(5),fun5(7)-fun6(7),fun6(10)-fun7(10),ffin[0]-1,ffin[1]-1,ffin[2]-1,ffin[3]-1,ffin[4]-1,ffin[5]-1,ffin[6]-1,\\\n",
        "                      fun1p(2)-fun2p(2),fun2p(3)-fun3p(3),fun3p(4)-fun4p(4),fun4p(5)-fun5p(5),fun5p(7)-fun6p(7),fun6p(10)-fun7p(10),fun1pp(2)-fun2pp(2),fun2pp(3)-fun3pp(3),fun3pp(4)-fun4pp(4),fun4pp(5)-fun5pp(5),fun5pp(7)-fun6pp(7),fun6pp(10)-fun7pp(10),fun1pp(0.5),fun7pp(30)],[a1,b1,c1,d1,a2,b2,c2,d2,a3,b3,c3,d3,a4,b4,c4,d4,a5,b5,c5,d5,a6,b6,c6,d6,a7,b7,c7,d7])\n",
        "print(solved_value);"
      ]
    },
    {
      "cell_type": "code",
      "source": [
        ""
      ],
      "metadata": {
        "id": "NoGtIE1RDGgb"
      },
      "execution_count": null,
      "outputs": []
    }
  ]
}